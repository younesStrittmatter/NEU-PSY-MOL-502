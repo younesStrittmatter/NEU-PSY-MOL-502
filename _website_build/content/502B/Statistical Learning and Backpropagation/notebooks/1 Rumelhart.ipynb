{
 "cells": [
  {
   "cell_type": "markdown",
   "id": "204faee3e3ca3927",
   "metadata": {},
   "source": [
    "# Rumelhart"
   ]
  }
 ],
 "metadata": {
  "kernelspec": {
   "display_name": "Python 3",
   "language": "python",
   "name": "python3"
  },
  "language_info": {
   "codemirror_mode": {
    "name": "ipython",
    "version": 2
   },
   "file_extension": ".py",
   "mimetype": "text/x-python",
   "name": "python",
   "nbconvert_exporter": "python",
   "pygments_lexer": "ipython2",
   "version": "2.7.6"
  }
 },
 "nbformat": 4,
 "nbformat_minor": 5
}
